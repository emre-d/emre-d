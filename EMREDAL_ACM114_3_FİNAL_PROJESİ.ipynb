{
  "nbformat": 4,
  "nbformat_minor": 0,
  "metadata": {
    "colab": {
      "name": "EMREDAL/ACM114-3/FİNAL-PROJESİ.ipynb",
      "provenance": [],
      "collapsed_sections": [],
      "authorship_tag": "ABX9TyMdOxrBmoMMmDQLnaMzgsD7",
      "include_colab_link": true
    },
    "kernelspec": {
      "name": "python3",
      "display_name": "Python 3"
    },
    "language_info": {
      "name": "python"
    }
  },
  "cells": [
    {
      "cell_type": "markdown",
      "metadata": {
        "id": "view-in-github",
        "colab_type": "text"
      },
      "source": [
        "<a href=\"https://colab.research.google.com/github/emre-d/emre-d/blob/main/EMREDAL_ACM114_3_F%C4%B0NAL_PROJES%C4%B0.ipynb\" target=\"_parent\"><img src=\"https://colab.research.google.com/assets/colab-badge.svg\" alt=\"Open In Colab\"/></a>"
      ]
    },
    {
      "cell_type": "markdown",
      "metadata": {
        "id": "UoMtnUoW9g14"
      },
      "source": [
        "**HOCAM PROJE YERELDEN PYCHARM UZERİNDEN CALISTIRDIM BURDA CALIŞMIYOR SANIRIM HEM CLASSROOMA HEM DE SIZE OZEL OLARAK MAIL ATTIM MAIL:emre.dal1@std.yeditepe.edu.tr**\n"
      ]
    },
    {
      "cell_type": "markdown",
      "metadata": {
        "id": "a52DZPa0_dD7"
      },
      "source": [
        "**HOCAM BU ARADA .PY OLAN DOSYAYI  MAİLDEN DE GONDERDİM ONU DA BİLGİNİZE.**"
      ]
    },
    {
      "cell_type": "code",
      "metadata": {
        "colab": {
          "base_uri": "https://localhost:8080/",
          "height": 367
        },
        "id": "44b2sCBh80yD",
        "outputId": "00ec5d6d-c424-4111-86de-6e43fe3020f7"
      },
      "source": [
        "from PyPDF2 import PdfFileWriter, PdfFileReader\n",
        "\n",
        "import tkinter as tk\n",
        "\n",
        "import tkinter.ttk as ttk\n",
        "\n",
        "from tkinter import filedialog, messagebox\n",
        "\n",
        "\n",
        "# Global DEGISKEN ATIYORUM\n",
        "\n",
        "filename = '' #DOSYA ICIN DEGISKEN\n",
        "\n",
        "passwd = ''#SIFRE ICIN DEGISKEN\n",
        "\n",
        "psd_entry = ''#BUDA SIFRE ENCRYPTLENIRKEN GET()KOMUTUYLA UIYA TRANSFER DEGISKENI\n",
        "\n",
        "#BU KODLARDA UI VE BUTONLARI AYARLIYORUM\n",
        "def select_Pdf():\n",
        "    global filename\n",
        "\n",
        "    global psd_entry\n",
        "\n",
        "    filename = filedialog.askopenfilename()\n",
        "\n",
        "    file_label = tk.Label(win, text=f'Seçtiginiz Dosya Adı: {filename}', bg='red')\n",
        "\n",
        "    file_label.grid(row=2, column=0, columnspan=8, padx=5)\n",
        "\n",
        "    psd_label =(tk.Label(win, text=\"Pdf için şifre:\"))\n",
        "\n",
        "    psd_label.grid(row=3, column=0, pady=10)\n",
        "\n",
        "    psd_entry = tk.Entry(win, width=25)\n",
        "\n",
        "    psd_entry.grid(row=3, column=1, columnspan=2, pady=10)\n",
        "\n",
        "    sifrele = ttk.Button(win, text=\"Dosya şifrele\", command=encrypt, width=30)\n",
        "\n",
        "    sifrele.grid(row=4, column=0, columnspan=8, pady=10)\n",
        "\n",
        "    return filename\n",
        "\n",
        "\n",
        "def encrypt():\n",
        "    #HOCAM BU KODLARDA SİFRE VE DOSYA KAYDETME VAR\n",
        "    global filename\n",
        "\n",
        "    global passwd\n",
        "\n",
        "    out = PdfFileWriter()\n",
        "\n",
        "    file = PdfFileReader(filename)\n",
        "\n",
        "    num = file.numPages\n",
        "\n",
        "    for idx in range(num):\n",
        "        page = file.getPage(idx)\n",
        "\n",
        "        out.addPage(page)\n",
        "\n",
        "    passwd = psd_entry.get()\n",
        "\n",
        "    out.encrypt(passwd)\n",
        "    # HOCAM BU KODLARDA YENI BIR DOSYA ACIP PDFİ KAYDEDİYOR FAKAT AYRI AYRI PDF KAYDEDEMİYORSUNUZ YENİ BİR TANE SEÇİNCE ESKİSİNİ SİLİYOR\n",
        "    with open(\"encrypt_pdf.pdf\", \"wb\") as f:\n",
        "        out.write(f)\n",
        "\n",
        "    messagebox.showinfo(\"Başarılı!\")\n",
        "\n",
        "#BURDA BASLİK BİRKAÇ YAZI VE WIDTH X HEIGHT AYARLİYORUM\n",
        "win = tk.Tk()\n",
        "\n",
        "win.geometry('1000x300')#WIDTH X HEIGHT\n",
        "\n",
        "win.title('PDF Şifreleyici')#PENCERE BASLIGI\n",
        "\n",
        "title = tk.Label(win, text='PDF Şifreleyici EMRE DAL ACM114-3 FINAL PROJESI', font=('jost', 30), justify='center')#UYGULAMA BASLIGI\n",
        "\n",
        "title.grid(row=0, column=0, columnspan=8)\n",
        "\n",
        "label1 = ttk.Label(win, text='Dosya bulun: ')\n",
        "\n",
        "label1.grid(row=1, column=0, pady=10)\n",
        "\n",
        "select_file = ttk.Button(win, text=\"Dosya secin\", command=select_Pdf)\n",
        "\n",
        "select_file.grid(row=1, column=1, pady=10)\n",
        "#bu son satırda uiyi çalıştırmak icin kullanulan kod\n",
        "win.mainloop()"
      ],
      "execution_count": null,
      "outputs": [
        {
          "output_type": "error",
          "ename": "ModuleNotFoundError",
          "evalue": "ignored",
          "traceback": [
            "\u001b[0;31m---------------------------------------------------------------------------\u001b[0m",
            "\u001b[0;31mModuleNotFoundError\u001b[0m                       Traceback (most recent call last)",
            "\u001b[0;32m<ipython-input-1-27372be1e5ff>\u001b[0m in \u001b[0;36m<module>\u001b[0;34m()\u001b[0m\n\u001b[0;32m----> 1\u001b[0;31m \u001b[0;32mfrom\u001b[0m \u001b[0mPyPDF2\u001b[0m \u001b[0;32mimport\u001b[0m \u001b[0mPdfFileWriter\u001b[0m\u001b[0;34m,\u001b[0m \u001b[0mPdfFileReader\u001b[0m\u001b[0;34m\u001b[0m\u001b[0;34m\u001b[0m\u001b[0m\n\u001b[0m\u001b[1;32m      2\u001b[0m \u001b[0;34m\u001b[0m\u001b[0m\n\u001b[1;32m      3\u001b[0m \u001b[0;32mimport\u001b[0m \u001b[0mtkinter\u001b[0m \u001b[0;32mas\u001b[0m \u001b[0mtk\u001b[0m\u001b[0;34m\u001b[0m\u001b[0;34m\u001b[0m\u001b[0m\n\u001b[1;32m      4\u001b[0m \u001b[0;34m\u001b[0m\u001b[0m\n\u001b[1;32m      5\u001b[0m \u001b[0;32mimport\u001b[0m \u001b[0mtkinter\u001b[0m\u001b[0;34m.\u001b[0m\u001b[0mttk\u001b[0m \u001b[0;32mas\u001b[0m \u001b[0mttk\u001b[0m\u001b[0;34m\u001b[0m\u001b[0;34m\u001b[0m\u001b[0m\n",
            "\u001b[0;31mModuleNotFoundError\u001b[0m: No module named 'PyPDF2'",
            "",
            "\u001b[0;31m---------------------------------------------------------------------------\u001b[0;32m\nNOTE: If your import is failing due to a missing package, you can\nmanually install dependencies using either !pip or !apt.\n\nTo view examples of installing some common dependencies, click the\n\"Open Examples\" button below.\n\u001b[0;31m---------------------------------------------------------------------------\u001b[0m\n"
          ]
        }
      ]
    }
  ]
}